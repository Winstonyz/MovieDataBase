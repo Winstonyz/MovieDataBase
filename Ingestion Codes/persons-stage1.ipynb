{
 "cells": [
  {
   "cell_type": "code",
   "execution_count": 1,
   "metadata": {},
   "outputs": [],
   "source": [
    "import pandas"
   ]
  },
  {
   "cell_type": "code",
   "execution_count": 2,
   "metadata": {},
   "outputs": [],
   "source": [
    "df_person = pandas.read_csv('./name.basics.csv')"
   ]
  },
  {
   "cell_type": "code",
   "execution_count": 3,
   "metadata": {},
   "outputs": [
    {
     "name": "stdout",
     "output_type": "stream",
     "text": [
      "<class 'pandas.core.frame.DataFrame'>\n",
      "RangeIndex: 1106616 entries, 0 to 1106615\n",
      "Data columns (total 6 columns):\n",
      "nconst               1106616 non-null object\n",
      "primaryName          1106616 non-null object\n",
      "birthYear            1106616 non-null object\n",
      "deathYear            1106616 non-null object\n",
      "primaryProfession    996906 non-null object\n",
      "knownForTitles       1106616 non-null object\n",
      "dtypes: object(6)\n",
      "memory usage: 50.7+ MB\n"
     ]
    }
   ],
   "source": [
    "df_person.info()"
   ]
  },
  {
   "cell_type": "code",
   "execution_count": null,
   "metadata": {},
   "outputs": [],
   "source": [
    "df_person = pandas.read_csv('./name.basics.csv')"
   ]
  }
 ],
 "metadata": {
  "kernelspec": {
   "display_name": "Python 3",
   "language": "python",
   "name": "python3"
  },
  "language_info": {
   "codemirror_mode": {
    "name": "ipython",
    "version": 3
   },
   "file_extension": ".py",
   "mimetype": "text/x-python",
   "name": "python",
   "nbconvert_exporter": "python",
   "pygments_lexer": "ipython3",
   "version": "3.7.0"
  }
 },
 "nbformat": 4,
 "nbformat_minor": 2
}
